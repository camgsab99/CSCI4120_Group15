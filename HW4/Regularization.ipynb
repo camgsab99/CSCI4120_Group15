{
 "cells": [
  {
   "cell_type": "code",
   "execution_count": 5,
   "metadata": {},
   "outputs": [
    {
     "name": "stderr",
     "output_type": "stream",
     "text": [
      "/var/folders/06/68dsc_yn1fx6jzh5kj4hwr7h0000gn/T/ipykernel_78026/2362115137.py:33: FutureWarning: The pandas.datetime class is deprecated and will be removed from pandas in a future version. Import from datetime module instead.\n",
      "  days = (date - pd.datetime(2000, 12, 21)).days\n"
     ]
    },
    {
     "ename": "KeyError",
     "evalue": "'TMin'",
     "output_type": "error",
     "traceback": [
      "\u001b[0;31m---------------------------------------------------------------------------\u001b[0m",
      "\u001b[0;31mKeyError\u001b[0m                                  Traceback (most recent call last)",
      "File \u001b[0;32m~/.pyenv/versions/3.10.6/lib/python3.10/site-packages/pandas/core/indexes/base.py:3629\u001b[0m, in \u001b[0;36mIndex.get_loc\u001b[0;34m(self, key, method, tolerance)\u001b[0m\n\u001b[1;32m   3628\u001b[0m \u001b[39mtry\u001b[39;00m:\n\u001b[0;32m-> 3629\u001b[0m     \u001b[39mreturn\u001b[39;00m \u001b[39mself\u001b[39;49m\u001b[39m.\u001b[39;49m_engine\u001b[39m.\u001b[39;49mget_loc(casted_key)\n\u001b[1;32m   3630\u001b[0m \u001b[39mexcept\u001b[39;00m \u001b[39mKeyError\u001b[39;00m \u001b[39mas\u001b[39;00m err:\n",
      "File \u001b[0;32m~/.pyenv/versions/3.10.6/lib/python3.10/site-packages/pandas/_libs/index.pyx:136\u001b[0m, in \u001b[0;36mpandas._libs.index.IndexEngine.get_loc\u001b[0;34m()\u001b[0m\n",
      "File \u001b[0;32m~/.pyenv/versions/3.10.6/lib/python3.10/site-packages/pandas/_libs/index.pyx:163\u001b[0m, in \u001b[0;36mpandas._libs.index.IndexEngine.get_loc\u001b[0;34m()\u001b[0m\n",
      "File \u001b[0;32mpandas/_libs/hashtable_class_helper.pxi:5198\u001b[0m, in \u001b[0;36mpandas._libs.hashtable.PyObjectHashTable.get_item\u001b[0;34m()\u001b[0m\n",
      "File \u001b[0;32mpandas/_libs/hashtable_class_helper.pxi:5206\u001b[0m, in \u001b[0;36mpandas._libs.hashtable.PyObjectHashTable.get_item\u001b[0;34m()\u001b[0m\n",
      "\u001b[0;31mKeyError\u001b[0m: 'TMin'",
      "\nThe above exception was the direct cause of the following exception:\n",
      "\u001b[0;31mKeyError\u001b[0m                                  Traceback (most recent call last)",
      "\u001b[1;32m/Users/camgsab/Repositories/CSCI4120_Group15/HW4/Regularization.ipynb Cell 1\u001b[0m in \u001b[0;36m<cell line: 40>\u001b[0;34m()\u001b[0m\n\u001b[1;32m     <a href='vscode-notebook-cell:/Users/camgsab/Repositories/CSCI4120_Group15/HW4/Regularization.ipynb#W0sZmlsZQ%3D%3D?line=35'>36</a>\u001b[0m     \u001b[39mreturn\u001b[39;00m \u001b[39m24.\u001b[39m \u001b[39m*\u001b[39m np\u001b[39m.\u001b[39mdegrees(np\u001b[39m.\u001b[39marccos(\u001b[39m1\u001b[39m \u001b[39m-\u001b[39m np\u001b[39m.\u001b[39mclip(m, \u001b[39m0\u001b[39m, \u001b[39m2\u001b[39m))) \u001b[39m/\u001b[39m \u001b[39m180.\u001b[39m\n\u001b[1;32m     <a href='vscode-notebook-cell:/Users/camgsab/Repositories/CSCI4120_Group15/HW4/Regularization.ipynb#W0sZmlsZQ%3D%3D?line=37'>38</a>\u001b[0m daily[\u001b[39m'\u001b[39m\u001b[39mdaylight_hrs\u001b[39m\u001b[39m'\u001b[39m] \u001b[39m=\u001b[39m \u001b[39mlist\u001b[39m(\u001b[39mmap\u001b[39m(hours_of_daylight, daily\u001b[39m.\u001b[39mindex))\n\u001b[0;32m---> <a href='vscode-notebook-cell:/Users/camgsab/Repositories/CSCI4120_Group15/HW4/Regularization.ipynb#W0sZmlsZQ%3D%3D?line=39'>40</a>\u001b[0m weather[\u001b[39m'\u001b[39m\u001b[39mTMin\u001b[39m\u001b[39m'\u001b[39m] \u001b[39m/\u001b[39m\u001b[39m=\u001b[39m \u001b[39m10\u001b[39m\n\u001b[1;32m     <a href='vscode-notebook-cell:/Users/camgsab/Repositories/CSCI4120_Group15/HW4/Regularization.ipynb#W0sZmlsZQ%3D%3D?line=40'>41</a>\u001b[0m weather[\u001b[39m'\u001b[39m\u001b[39mTMax\u001b[39m\u001b[39m'\u001b[39m] \u001b[39m/\u001b[39m\u001b[39m=\u001b[39m \u001b[39m10\u001b[39m\n\u001b[1;32m     <a href='vscode-notebook-cell:/Users/camgsab/Repositories/CSCI4120_Group15/HW4/Regularization.ipynb#W0sZmlsZQ%3D%3D?line=41'>42</a>\u001b[0m weather[\u001b[39m'\u001b[39m\u001b[39mTemp (C)\u001b[39m\u001b[39m'\u001b[39m] \u001b[39m=\u001b[39m (weather[\u001b[39m'\u001b[39m\u001b[39mTMin\u001b[39m\u001b[39m'\u001b[39m] \u001b[39m+\u001b[39m weather[\u001b[39m'\u001b[39m\u001b[39mTMax\u001b[39m\u001b[39m'\u001b[39m]) \u001b[39m/\u001b[39m \u001b[39m2\u001b[39m\n",
      "File \u001b[0;32m~/.pyenv/versions/3.10.6/lib/python3.10/site-packages/pandas/core/frame.py:3505\u001b[0m, in \u001b[0;36mDataFrame.__getitem__\u001b[0;34m(self, key)\u001b[0m\n\u001b[1;32m   3503\u001b[0m \u001b[39mif\u001b[39;00m \u001b[39mself\u001b[39m\u001b[39m.\u001b[39mcolumns\u001b[39m.\u001b[39mnlevels \u001b[39m>\u001b[39m \u001b[39m1\u001b[39m:\n\u001b[1;32m   3504\u001b[0m     \u001b[39mreturn\u001b[39;00m \u001b[39mself\u001b[39m\u001b[39m.\u001b[39m_getitem_multilevel(key)\n\u001b[0;32m-> 3505\u001b[0m indexer \u001b[39m=\u001b[39m \u001b[39mself\u001b[39;49m\u001b[39m.\u001b[39;49mcolumns\u001b[39m.\u001b[39;49mget_loc(key)\n\u001b[1;32m   3506\u001b[0m \u001b[39mif\u001b[39;00m is_integer(indexer):\n\u001b[1;32m   3507\u001b[0m     indexer \u001b[39m=\u001b[39m [indexer]\n",
      "File \u001b[0;32m~/.pyenv/versions/3.10.6/lib/python3.10/site-packages/pandas/core/indexes/base.py:3631\u001b[0m, in \u001b[0;36mIndex.get_loc\u001b[0;34m(self, key, method, tolerance)\u001b[0m\n\u001b[1;32m   3629\u001b[0m     \u001b[39mreturn\u001b[39;00m \u001b[39mself\u001b[39m\u001b[39m.\u001b[39m_engine\u001b[39m.\u001b[39mget_loc(casted_key)\n\u001b[1;32m   3630\u001b[0m \u001b[39mexcept\u001b[39;00m \u001b[39mKeyError\u001b[39;00m \u001b[39mas\u001b[39;00m err:\n\u001b[0;32m-> 3631\u001b[0m     \u001b[39mraise\u001b[39;00m \u001b[39mKeyError\u001b[39;00m(key) \u001b[39mfrom\u001b[39;00m \u001b[39merr\u001b[39;00m\n\u001b[1;32m   3632\u001b[0m \u001b[39mexcept\u001b[39;00m \u001b[39mTypeError\u001b[39;00m:\n\u001b[1;32m   3633\u001b[0m     \u001b[39m# If we have a listlike key, _check_indexing_error will raise\u001b[39;00m\n\u001b[1;32m   3634\u001b[0m     \u001b[39m#  InvalidIndexError. Otherwise we fall through and re-raise\u001b[39;00m\n\u001b[1;32m   3635\u001b[0m     \u001b[39m#  the TypeError.\u001b[39;00m\n\u001b[1;32m   3636\u001b[0m     \u001b[39mself\u001b[39m\u001b[39m.\u001b[39m_check_indexing_error(key)\n",
      "\u001b[0;31mKeyError\u001b[0m: 'TMin'"
     ]
    }
   ],
   "source": [
    "%matplotlib inline\n",
    "import matplotlib.pyplot as plt\n",
    "import seaborn as sns; sns.set()\n",
    "import numpy as np\n",
    "import pandas as pd\n",
    "import datetime\n",
    "\n",
    "from sklearn.base import BaseEstimator, TransformerMixin\n",
    "from sklearn.linear_model import LinearRegression, Ridge, Lasso\n",
    "from sklearn.model_selection import RandomizedSearchCV, cross_val_score\n",
    "from sklearn.metrics import accuracy_score\n",
    "from scipy.stats import uniform\n",
    "\n",
    "counts = pd.read_csv('data/FremontBridge.csv', index_col='Date', parse_dates=True)\n",
    "weather = pd.read_csv('data/BicycleWeather.csv', index_col='DATE', parse_dates=True)\n",
    "daily = counts.resample('d').sum()\n",
    "daily['Total'] = daily.sum(axis=1)\n",
    "daily = daily[['Total']]\n",
    "\n",
    "day_names = ['Mon', 'Tue', 'Wed', 'Thu', 'Fri', 'Sat', 'Sun']\n",
    "for i in range(7):\n",
    "    daily[day_names[i]] = (daily.index.dayofweek == i).astype(float)\n",
    "\n",
    "from pandas.tseries.holiday import USFederalHolidayCalendar as calendar\n",
    "cal = calendar()\n",
    "holidays = cal.holidays('2012', '2016')\n",
    "daily = daily.join(pd.Series(1, index=holidays, name='holiday'))\n",
    "\n",
    "daily['holiday'].fillna(0, inplace=True)\n",
    "\n",
    "def hours_of_daylight(date, axis=23.44, latitude=47.61):\n",
    "    \"\"\"Compute the hours of daylight for the given date\"\"\"\n",
    "    days = (date - datetime(2000, 12, 21)).days\n",
    "    m = (1. - np.tan(np.radians(latitude))\n",
    "         * np.tan(np.radians(axis) * np.cos(days * 2 * np.pi / 365.25)))\n",
    "    return 24. * np.degrees(np.arccos(1 - np.clip(m, 0, 2))) / 180.\n",
    "\n",
    "daily['daylight_hrs'] = list(map(hours_of_daylight, daily.index))\n",
    "\n",
    "weather['TMin'] /= 10\n",
    "weather['TMax'] /= 10\n",
    "weather['Temp (C)'] = (weather['TMin'] + weather['TMax']) / 2\n",
    "\n",
    "weather['PRCP'] /= 254\n",
    "weather['dry day'] = (weather['PRCP'] == 0).astype(int)\n",
    "\n",
    "daily = daily.join(weather[['PRCP', 'Temp (C)', 'dry day']])\n",
    "\n",
    "daily['annual'] = (daily.index - daily.index[0]).days / 365.\n",
    "\n",
    "daily.dropna(axis=0, how='any', inplace=True)\n",
    "column_names = ['Mon', 'Tue', 'Wed', 'Thu', 'Fri', 'Sat', 'Sun', 'holiday', 'daylight_hrs', 'PRCP', 'Temp (C)', 'dry day', 'annual']\n",
    "\n",
    "X = daily[column_names]\n",
    "y = daily['Total']"
   ]
  },
  {
   "cell_type": "code",
   "execution_count": null,
   "metadata": {},
   "outputs": [],
   "source": [
    "results = {}\n",
    "\n",
    "param_grid = {'alpha': uniform()}\n",
    "rsearch = RandomizedSearchCV(estimator=Ridge(), param_distributions=param_grid, cv=10)\n",
    "rsearch.fit(X, y)\n",
    "rbest_alpha = rsearch.best_params_['alpha']\n",
    "rmean_score = rsearch.best_score_\n",
    "print('Ridge: alpha = {:.3f}, score = {:.3f}'.format(rbest_alpha, rmean_score))\n",
    "results['Ridge'] = rmean_score\n",
    "\n",
    "lsearch = RandomizedSearchCV(estimator=Lasso(tol = .01), param_distributions=param_grid, cv=10)\n",
    "lsearch.fit(X, y)\n",
    "lbest_alpha = lsearch.best_params_['alpha']\n",
    "lmean_score = lsearch.best_score_\n",
    "print('Lasso: alpha = {:.3f}, score = {:.3f}'.format(lbest_alpha, lmean_score))\n",
    "results['Lasso'] = lmean_score\n",
    "\n",
    "model = LinearRegression(fit_intercept=False)\n",
    "model.fit(X, y)\n",
    "\n",
    "linear_cv = cross_val_score(model, X, y, cv=10)\n",
    "lrmean_score = linear_cv.mean()\n",
    "print('Linear: score = {:.3f}'.format(lrmean_score))\n",
    "results['Linear'] = lrmean_score\n",
    "\n",
    "max_score = max(results.values())\n",
    "print('Best model: {}'.format([k for k, v in results.items() if v == max_score][0]))"
   ]
  }
 ],
 "metadata": {
  "anaconda-cloud": {},
  "kernelspec": {
   "display_name": "Python 3.10.6 64-bit ('3.10.6')",
   "language": "python",
   "name": "python3"
  },
  "language_info": {
   "codemirror_mode": {
    "name": "ipython",
    "version": 3
   },
   "file_extension": ".py",
   "mimetype": "text/x-python",
   "name": "python",
   "nbconvert_exporter": "python",
   "pygments_lexer": "ipython3",
   "version": "3.10.6"
  },
  "vscode": {
   "interpreter": {
    "hash": "173760e0b50f995bdd7f1a988e1219f33238093f054c7a1032b20dae1856b6e5"
   }
  }
 },
 "nbformat": 4,
 "nbformat_minor": 1
}
